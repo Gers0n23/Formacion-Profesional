{
 "cells": [
  {
   "cell_type": "markdown",
   "metadata": {},
   "source": [
    "# Data Science Tools and Ecosystem"
   ]
  },
  {
   "cell_type": "markdown",
   "metadata": {},
   "source": [
    "En este notebook, se resumen las herramientas y el ecosistema de la Ciencia de Datos, Es el primer trabajo de pruebas para lograr aprender todas las herramientas necesarias para ejercer la ciencia de datos, y avanzar en mi carrera profesional"
   ]
  },
  {
   "cell_type": "markdown",
   "metadata": {},
   "source": [
    "Algunos lenguajes que se utilizan en Ciencia de datos son:\n",
    "1. Python\n",
    "2. R\n",
    "3. SQL\n",
    "4. DAX\n",
    "5. HTML"
   ]
  },
  {
   "cell_type": "markdown",
   "metadata": {},
   "source": [
    "Dentro de las bibliotecas mas utilizadas para trabajar en R encontramos:\n",
    "1. NUMPY\n",
    "2. PANDAS\n",
    "3. MATPLOTLIB"
   ]
  },
  {
   "cell_type": "markdown",
   "metadata": {},
   "source": [
    "| Herramientas Data Science     |\n",
    "|-------------------------------|\n",
    "| Jupyter Notebook              |\n",
    "| RStudio                       |\n",
    "| Apache Zeppelin               |\n"
   ]
  },
  {
   "cell_type": "markdown",
   "metadata": {},
   "source": [
    "### Abajo enumerare unos pocos ejemplos de evaluacion de expresiones aritmeticas en python\n"
   ]
  },
  {
   "cell_type": "code",
   "execution_count": 1,
   "metadata": {},
   "outputs": [
    {
     "data": {
      "text/plain": [
       "17"
      ]
     },
     "execution_count": 1,
     "metadata": {},
     "output_type": "execute_result"
    }
   ],
   "source": [
    "#Ecuacion simple, Muliplicacion y suma\n",
    "(3*4)+5"
   ]
  },
  {
   "cell_type": "code",
   "execution_count": 6,
   "metadata": {},
   "outputs": [
    {
     "name": "stdout",
     "output_type": "stream",
     "text": [
      "3.3333333333333335\n"
     ]
    }
   ],
   "source": [
    "#Conversion de minutos a horas.\n",
    "minutos = 200\n",
    "horas = minutos/60\n",
    "\n",
    "print(horas)"
   ]
  },
  {
   "cell_type": "markdown",
   "metadata": {},
   "source": [
    "**Objetivos:**\n",
    "\n",
    "- Listar los lenguajes más populares para la Ciencia de Datos.\n",
    "- Identificar las bibliotecas más comúnmente usadas en Ciencia de Datos.\n",
    "- Proveer ejemplos de herramientas utilizadas en Ciencia de Datos.\n",
    "- Demostrar operaciones aritméticas simples en Python.\n",
    "- Explicar el proceso de conversión de unidades de tiempo en Python."
   ]
  },
  {
   "cell_type": "markdown",
   "metadata": {},
   "source": [
    "##  Autor\n",
    "Gerson Alejandro Cordero Herrera"
   ]
  },
  {
   "cell_type": "markdown",
   "metadata": {},
   "source": []
  }
 ],
 "metadata": {
  "kernelspec": {
   "display_name": "base",
   "language": "python",
   "name": "python3"
  },
  "language_info": {
   "codemirror_mode": {
    "name": "ipython",
    "version": 3
   },
   "file_extension": ".py",
   "mimetype": "text/x-python",
   "name": "python",
   "nbconvert_exporter": "python",
   "pygments_lexer": "ipython3",
   "version": "3.12.4"
  }
 },
 "nbformat": 4,
 "nbformat_minor": 2
}
